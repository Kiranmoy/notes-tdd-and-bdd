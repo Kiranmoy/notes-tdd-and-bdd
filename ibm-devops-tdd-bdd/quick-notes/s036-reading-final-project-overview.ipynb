{
 "cells": [
  {
   "cell_type": "markdown",
   "id": "1d8f7ca3-8cea-4169-b24f-81fbb35f69bd",
   "metadata": {},
   "source": [
    "# Final Project Overview"
   ]
  },
  {
   "cell_type": "markdown",
   "id": "2dd00ff0-f916-4fea-9701-bd60cc9b7806",
   "metadata": {},
   "source": [
    "In this Final project, you will apply many of the technologies and concepts you've learned in the course and **create a microservice for a product catalog backend to an eCommerce application**. Administrators will use the UI of the eCommerce application to maintain the product catalog.\n",
    "\n",
    "This **Final Project** is divided into two parts.\n",
    "\n",
    "In the **first part of this project**, you will use good Test Driven Development practices to create a REST API that allows users to Create, Read, Update, Delete, and List products by various attributes.\n",
    "\n",
    "You are provided with the starter code – [the GitHub Project Link](https://github.com/ibm-developer-skills-network/xgcyk-tdd-bdd-final-project-template) in which the Create implementation and tests will be provided for you. You need to use this as a template to create your own repository in your GitHub Account.\n",
    "\n",
    "The **acceptance criteria** for **Part 1** would be for all your tests to pass, maintain at least `95%` code coverage, and ensure there are no linting errors.\n",
    "\n",
    "In the **second part of this project**, you will write Behavior Driven Development scenarios to test that the administrative user interface that has been provided for you behaves as expected.\n",
    "\n",
    "You will have to set up the lab environment to use `Python 3.8`, `Selenium`, and `Behave`, just like you did in the BDD Labs.\n",
    "\n",
    "You will create a steps file and load background data from your BDD scenarios into your service before each scenario executes. You will also create a feature file with the BDD scenarios to test and prove that the UI behaves as expected.\n",
    "\n",
    "Apart from the CRUD functions, you will also search for Products by Category, Availability, and Name.\n",
    "\n",
    "The **acceptance criteria** for **Part 2** would be for all 7 scenarios (one each for Create a Product, Read a Product, Update a Product, Delete a Product, List by Category, List by Available, and List by Name) to exist and pass.\n",
    "\n",
    "Good luck, and let’s get started!"
   ]
  },
  {
   "cell_type": "markdown",
   "id": "a8b1f763-30de-4992-b6ba-e6c07914a70d",
   "metadata": {},
   "source": [
    "# Reading: About the Product Model"
   ]
  },
  {
   "cell_type": "markdown",
   "id": "9aa89b53-3883-430e-aa50-0dc5699286a2",
   "metadata": {},
   "source": [
    "As detailed in the Final Project Overview section, you must **create a microservice for the Product Catalogue backend to an eCommerce Application**.\n",
    "\n",
    "Let us look at the file `service/models.py` to understand and analyze the `Product` Model, its various attributes, the imported modules, the `Product` Class, and the different methods used."
   ]
  },
  {
   "cell_type": "markdown",
   "id": "5a77dce8-ab13-423f-b9ae-48227dcd58f4",
   "metadata": {},
   "source": [
    "# Attributes"
   ]
  },
  {
   "cell_type": "markdown",
   "id": "0af6a32f-eced-4050-9883-4af7c9cb7dc3",
   "metadata": {},
   "source": [
    "The different attributes used in this model are:\n",
    "* `id` - id of the product\n",
    "* `name` - name of the product\n",
    "* `description` - description of the product\n",
    "* `price` - price of the product\n",
    "* `available` - if the product is available\n",
    "* `category` - category under which the product belongs"
   ]
  },
  {
   "cell_type": "markdown",
   "id": "56809aeb-15af-42ee-9d68-6cbdf0519ccb",
   "metadata": {},
   "source": [
    "# Import Statements"
   ]
  },
  {
   "cell_type": "markdown",
   "id": "777e87a3-d332-4735-881a-aabbdb4e1be9",
   "metadata": {},
   "source": [
    "* **`import logging`** - You use Python's statement `import logging` to import the built-in `logging` module. Once you import the logging module, you can use its functions and classes to log messages at various levels of severity, such as `DEBUG`, `INFO`, `WARNING`, `ERROR`, and `CRITICAL`.\n",
    "\n",
    "* **`from enum import Enum`** - You use the statement `from enum import Enum` in Python to import the `Enum` class from the `enum` module. Enums, or enumerations, are a way to define a set of named values in Python. By defining your enums, you can create a set of symbolic names representing a fixed set of values.\n",
    "\n",
    "* **`from decimal import Decimal`** - You use the statement `from decimal import Decimal` in Python to import the `Decimal` class from the `decimal` module. The `Decimal` class supports decimal floating-point arithmetic and is particularly useful when performing precise decimal calculations.\n",
    "\n",
    "* **`from flask import Flask`** - You use the statement `from flask import Flask in Python to import the Flask class from the flask module. Flask is a popular web framework in Python that allows you to build web applications. The Flask class is the core component of the Flask framework and is responsible for creating a Flask application instance.\n",
    "\n",
    "* **`from flask_sqlalchemy import SQLAlchemy`** - You use the statement `from flask_sqlalchemy import SQLAlchemy` in Python to import the `SQLAlchemy` class from the `flask_sqlalchemy` module. **Flask SQLAlchemy** is an extension for the Flask web framework that integrates with SQLAlchemy, a popular Object-Relational Mapping (ORM) library in Python."
   ]
  },
  {
   "cell_type": "markdown",
   "id": "b2070516-14f8-4e60-b6f7-83525cb08723",
   "metadata": {},
   "source": [
    "# Methods & Classes"
   ]
  },
  {
   "cell_type": "markdown",
   "id": "849a3b99-659c-4820-bcfc-b05d07c55ecd",
   "metadata": {},
   "source": [
    "## `db = SQLAlchemy()`"
   ]
  },
  {
   "cell_type": "markdown",
   "id": "e88b640b-e4f0-46b7-93b0-eedacd85c65a",
   "metadata": {},
   "source": [
    "This statement creates a `SQLAlchemy` object associated with a Flask application instance to establish a database connection and integrate `SQLAlchemy` with the `Flask` application. The below code initializes the database.\n",
    "```\n",
    "def init_db(app):\n",
    "    \"\"\"Initialize the SQLAlchemy app\"\"\"\n",
    "    Product.init_db(app)\n",
    "```"
   ]
  },
  {
   "cell_type": "markdown",
   "id": "49da3531-3df3-4a5d-a0c2-327f7455ad1e",
   "metadata": {},
   "source": [
    "## `class DataValidationError(Exception)`"
   ]
  },
  {
   "cell_type": "markdown",
   "id": "752e5d56-def1-4349-9224-8a41d2c41852",
   "metadata": {},
   "source": [
    "* This statement defines a custom exception class called `DataValidationError` that inherits from the built-in `Exception` class. \n",
    "* By creating custom exception classes, you can define specific error conditions or exceptional scenarios in your code and raise those exceptions when necessary. \n",
    "* By using this custom exception, when you do data validation, it raises a `DataValidationError` exception with an appropriate error message if the data is not valid."
   ]
  },
  {
   "cell_type": "markdown",
   "id": "d16fc61e-f51e-4a3c-9e6c-d72c72c7a0f5",
   "metadata": {},
   "source": [
    "## `Enumeration of Product Categories`"
   ]
  },
  {
   "cell_type": "markdown",
   "id": "90c2d3d8-4358-41d1-987b-246707c6b9eb",
   "metadata": {},
   "source": [
    "The below code snippet defines the `Category` enumeration with additional categories and assigns explicit integer values to each member. Each member represents a valid product category.\n",
    "\n",
    "```\n",
    "class Category(Enum):\n",
    "    \"\"\"Enumeration of valid Product Categories\"\"\"\n",
    "\n",
    "    UNKNOWN = 0\n",
    "    CLOTHS = 1\n",
    "    FOOD = 2\n",
    "    HOUSEWARES = 3\n",
    "    AUTOMOTIVE = 4\n",
    "    TOOLS = 5\n",
    "```"
   ]
  },
  {
   "cell_type": "markdown",
   "id": "45068ce0-a85b-4733-8108-2d1ac47dfef4",
   "metadata": {},
   "source": [
    "## `Product Class`"
   ]
  },
  {
   "cell_type": "markdown",
   "id": "71abcd18-1b12-455d-88bc-284d32640186",
   "metadata": {},
   "source": [
    "The code snippet below defines a Product model class using `db.model` as the base class. The Product model represents a table in the database, and you define each table column as a class attribute.\n",
    "\n",
    "**The column definitions in the Product model are detailed below:**\n",
    "\n",
    "* `id`: An integer column representing the primary key of the **Product** table.\n",
    "* `name`:\n",
    "    * A string column with a maximum length of 100 characters, representing the product's name.\n",
    "    * `nullable=False` indicates that the corresponding column in the database cannot have a `NULL` value.\n",
    "* `description`:\n",
    "    * A string column with a maximum length of `250` characters representing the product's description.\n",
    "    * `nullable=False` indicates that the corresponding column in the database cannot have a `NULL` value.\n",
    "* `price`:\n",
    "    * A numeric column representing the price of the product.\n",
    "    * You use the `db.Numeric` type for precise decimal calculations.\n",
    "    * `nullable=False` indicates that the corresponding column in the database cannot have a `NULL` value.\n",
    "* `available`:\n",
    "    * A boolean column representing the availability of the product.\n",
    "    * It has a default value of `True`.\n",
    "    * `nullable=False` indicates that the corresponding column in the database cannot have a `NULL` value.\n",
    "* `category`:\n",
    "    * An enum column representing the category of the product.\n",
    "    * It uses the `Category enum` defined previously.\n",
    "    * You use the `db.Enum` type to map the enum values to the corresponding database values.\n",
    "    * The `server_default` argument is set to `Category.UNKNOWN.name`, which provides a default value for the column.\n",
    "\n",
    "By defining the `Product` model, you can interact with the corresponding table in the database using SQLAlchemy's ORM features. This interaction allows you to perform **CRUD (Create, Read, Update, Delete)** operations on `Product` objects and query the database using the defined columns.\n",
    "\n",
    "```\n",
    "class Product(db.Model):\n",
    "    \"\"\"\n",
    "    Class that represents a Product\n",
    "\n",
    "    This version uses a relational database for a hidden persistence \n",
    "    from us by SQLAlchemy's object-relational mappings (ORM)\n",
    "    \"\"\"\n",
    "    ##################################################\n",
    "    # Table Schema\n",
    "    ##################################################\n",
    "    id = db.Column(db.Integer, primary_key=True)\n",
    "    name = db.Column(db.String(100), nullable=False)\n",
    "    description = db.Column(db.String(250), nullable=False)\n",
    "    price = db.Column(db.Numeric, nullable=False)\n",
    "    available = db.Column(db.Boolean(), nullable=False, default=True)\n",
    "    category = db.Column(\n",
    "        db.Enum(Category), nullable=False, server_default=(Category.UNKNOWN.name)\n",
    "    )\n",
    "```"
   ]
  },
  {
   "cell_type": "markdown",
   "id": "8abeb090-af01-4c71-ab5a-5a0e2964686b",
   "metadata": {},
   "source": [
    "# Instance Methods"
   ]
  },
  {
   "cell_type": "markdown",
   "id": "9305b50b-6585-4a04-9480-a472c0d08de7",
   "metadata": {},
   "source": [
    "## `__repr__()` method"
   ]
  },
  {
   "cell_type": "markdown",
   "id": "20821842-2c1e-4b99-9d23-dd67ea553397",
   "metadata": {},
   "source": [
    "The below code snippet shows the `Product` model in which you define `__repr__()` method to return a string representation of a `Product` object. The returned string includes the name and `id` of the product.\n",
    "\n",
    "```\n",
    "def __repr__(self):\n",
    "        return f\"<Product {self.name} id=[{self.id}]>\"\n",
    "```"
   ]
  },
  {
   "cell_type": "markdown",
   "id": "aaf926a3-50af-41c3-b986-eddf0738d6c5",
   "metadata": {},
   "source": [
    "## `create()` method"
   ]
  },
  {
   "cell_type": "markdown",
   "id": "855bcb4a-2317-4ea7-96c0-66434cdf1e29",
   "metadata": {},
   "source": [
    "The code snippet below shows the `create()` method within the Product class responsible for creating a new Product object in the database.\n",
    "```\n",
    "def create(self):\n",
    "        \"\"\"\n",
    "        Creates a Product to the database\n",
    "        \"\"\"\n",
    "        logger.info(\"Creating %s\", self.name)\n",
    "        # id must be none to generate next primary key\n",
    "        self.id = None  # pylint: disable=invalid-name\n",
    "        db.session.add(self)\n",
    "        db.session.commit()\n",
    "```"
   ]
  },
  {
   "cell_type": "markdown",
   "id": "2d0d8c19-bf62-423f-81f5-bbc4baf463fa",
   "metadata": {},
   "source": [
    "## `update()` method"
   ]
  },
  {
   "cell_type": "markdown",
   "id": "1f474b39-5575-480e-8f8e-9b6ab76d7cb6",
   "metadata": {},
   "source": [
    "The code snippet below shows the `update()` method within the `Product` class responsible for updating an existing `Product` object in the database.\n",
    "\n",
    "```\n",
    "def update(self):\n",
    "        \"\"\"\n",
    "        Updates a Product to the database\n",
    "        \"\"\"\n",
    "        logger.info(\"Saving %s\", self.name)\n",
    "        if not self.id:\n",
    "            raise DataValidationError(\"Update called with empty ID field\")\n",
    "        db.session.commit()\n",
    "```\n",
    "\n",
    "**Note:** \n",
    "* There is a check done on the id attribute of the `Product` object.\n",
    "* If the `id` is empty, it raises a `DataValidationError`, indicating that the update is being called on a product with a blank ID field."
   ]
  },
  {
   "cell_type": "markdown",
   "id": "cfb938e1-cd9a-4cfb-8cb7-8e0ee1cf0b8d",
   "metadata": {},
   "source": [
    "## `delete()` method"
   ]
  },
  {
   "cell_type": "markdown",
   "id": "2283e451-65a1-4e19-8396-09fd5096d807",
   "metadata": {},
   "source": [
    "The code snippet below shows the `delete()` method within the `Product` class responsible for deleting a `Product` object from the database.\n",
    "```\n",
    "def delete(self):\n",
    "        \"\"\"Removes a Product from the data store\"\"\"\n",
    "        logger.info(\"Deleting %s\", self.name)\n",
    "        db.session.delete(self)\n",
    "        db.session.commit()\n",
    "```"
   ]
  },
  {
   "cell_type": "markdown",
   "id": "2b472942-15c1-44f2-b2d0-08f6c8a27e22",
   "metadata": {},
   "source": [
    "## `serialize()` method"
   ]
  },
  {
   "cell_type": "markdown",
   "id": "4d41449d-822d-40cd-9eee-d576b2ecd080",
   "metadata": {},
   "source": [
    "The below code snippet shows the `serialize()` method within the Product class that converts a `Product` object into a dictionary representation, which can be useful for various purposes such as JSON serialization, data transfer, or API responses.\n",
    "\n",
    "```\n",
    " def serialize(self) -> dict:\n",
    "        \"\"\"Serializes a Product into a dictionary\"\"\"\n",
    "        return {\n",
    "            \"id\": self.id,\n",
    "            \"name\": self.name,\n",
    "            \"description\": self.description,\n",
    "            \"price\": str(self.price),\n",
    "            \"available\": self.available,\n",
    "            \"category\": self.category.name  # convert enum to string\n",
    "        }\n",
    "```"
   ]
  },
  {
   "cell_type": "markdown",
   "id": "cc46225a-7846-4cea-861b-183d856d5f5c",
   "metadata": {},
   "source": [
    "## `deserialize()` method"
   ]
  },
  {
   "cell_type": "markdown",
   "id": "cdf7d701-27a8-43f9-ba3c-4eefe86a466b",
   "metadata": {},
   "source": [
    "The below code snippet shows the `deserialize()` method within the `Product` class that allows you to populate a `Product` object with data from a dictionary representation. This deserialization process converts the structured data into an object with corresponding attributes.\n",
    "```\n",
    "def deserialize(self, data: dict):\n",
    "        \"\"\"\n",
    "        Deserializes a Product from a dictionary\n",
    "        Args:\n",
    "            data (dict): A dictionary containing the Product data\n",
    "        \"\"\"\n",
    "        try:\n",
    "            self.name = data[\"name\"]\n",
    "            self.description = data[\"description\"]\n",
    "            self.price = Decimal(data[\"price\"])\n",
    "            if isinstance(data[\"available\"], bool):\n",
    "                self.available = data[\"available\"]\n",
    "            else:\n",
    "                raise DataValidationError(\n",
    "                    \"Invalid type for boolean [available]: \"\n",
    "                    + str(type(data[\"available\"]))\n",
    "                )\n",
    "            self.category = getattr(Category, data[\"category\"])  # create enum from string\n",
    "        except AttributeError as error:\n",
    "            raise DataValidationError(\"Invalid attribute: \" + error.args[0]) from error\n",
    "        except KeyError as error:\n",
    "            raise DataValidationError(\"Invalid product: missing \" + error.args[0]) from error\n",
    "        except TypeError as error:\n",
    "            raise DataValidationError(\n",
    "                \"Invalid product: body of request contained bad or no data \" + str(error)\n",
    "            ) from error\n",
    "        return self\n",
    "```"
   ]
  },
  {
   "cell_type": "markdown",
   "id": "7dd6e5ed-93ef-4474-9adc-5480d411f847",
   "metadata": {},
   "source": [
    "**Note:** \n",
    "* Various exceptions (`AttributeError`, `KeyError`, `TypeError`) are caught and re-raised as `DataValidationError` exceptions with appropriate error messages.\n",
    "* These exceptions handle scenarios where the provided data dictionary is missing the required keys or contains invalid data."
   ]
  },
  {
   "cell_type": "markdown",
   "id": "2b701b57-6a41-482a-82d7-c621a216321c",
   "metadata": {},
   "source": [
    "# Class Methods"
   ]
  },
  {
   "cell_type": "markdown",
   "id": "8f7c2040-76c3-429f-9511-ee999508f650",
   "metadata": {},
   "source": [
    "## `init_db()` method"
   ]
  },
  {
   "cell_type": "markdown",
   "id": "d19bc701-1ec9-4c50-a2c5-d873e4a9bae3",
   "metadata": {},
   "source": [
    "The below code snippet includes a class method called `init_db` within the `Product` class, which is responsible for initializing the database session and creating the necessary `SQLAlchemy` tables.\n",
    "\n",
    "```\n",
    " @classmethod\n",
    "    def init_db(cls, app: Flask):\n",
    "        \"\"\"Initializes the database session\n",
    "\n",
    "        :param app: the Flask app\n",
    "        :type data: Flask\n",
    "\n",
    "        \"\"\"\n",
    "        logger.info(\"Initializing database\")\n",
    "        # This is where we initialize SQLAlchemy from the Flask app\n",
    "        db.init_app(app)\n",
    "        app.app_context().push()\n",
    "        db.create_all()  # make our sqlalchemy tables\n",
    "```"
   ]
  },
  {
   "cell_type": "markdown",
   "id": "c6d29455-8352-46fd-985c-657b530e6f8d",
   "metadata": {},
   "source": [
    "## `all()` method"
   ]
  },
  {
   "cell_type": "markdown",
   "id": "4e6f76e2-33d8-4cef-b6fa-82f833a5330e",
   "metadata": {},
   "source": [
    "The below code snippet includes a class method called `all()` within the `Product` class which retrieves all the `Product` objects from the database.\n",
    "```\n",
    " @classmethod\n",
    "    def all(cls) -> list:\n",
    "        \"\"\"Returns all of the Products in the database\"\"\"\n",
    "        logger.info(\"Processing all Products\")\n",
    "        return cls.query.all()\n",
    "```"
   ]
  },
  {
   "cell_type": "markdown",
   "id": "dd62c460-3ac4-4fe4-89cc-babfca048421",
   "metadata": {},
   "source": [
    "## `find()` method"
   ]
  },
  {
   "cell_type": "markdown",
   "id": "3a6bb1b1-2f32-4c6e-ab84-0432388a7a1c",
   "metadata": {},
   "source": [
    "The below code snippet includes a class method called `find()` within the Product class, which is responsible for finding a `Product` by its `ID` in the database.\n",
    "```\n",
    "@classmethod\n",
    "    def find(cls, product_id: int):\n",
    "        \"\"\"Finds a Product by it's ID\n",
    "\n",
    "        :param product_id: the id of the Product to find\n",
    "        :type product_id: int\n",
    "\n",
    "        :return: an instance with the product_id, or None if not found\n",
    "        :rtype: Product\n",
    "\n",
    "        \"\"\"\n",
    "        logger.info(\"Processing lookup for id %s ...\", product_id)\n",
    "        return cls.query.get(product_id)\n",
    "```\n",
    "\n",
    "**Note:** \n",
    "* If a `Product` object with the specified `ID` is found in the database, it is returned. \n",
    "* Otherwise, it returns `None`."
   ]
  },
  {
   "cell_type": "markdown",
   "id": "9174f3f0-f368-4c1d-92e2-3483df9342f3",
   "metadata": {},
   "source": [
    "## `find_by_name()` method"
   ]
  },
  {
   "cell_type": "markdown",
   "id": "81a02615-3c9f-447a-869f-336894756fef",
   "metadata": {},
   "source": [
    "The code snippet below includes a class method called `find_by_name()` within the `Product` class, which retrieves all the `Product` objects from the database with a matching name.\n",
    "\n",
    "```\n",
    " @classmethod\n",
    "    def find_by_name(cls, name: str) -> list:\n",
    "        \"\"\"Returns all Products with the given name\n",
    "\n",
    "        :param name: the name of the Products you want to match\n",
    "        :type name: str\n",
    "\n",
    "        :return: a collection of Products with that name\n",
    "        :rtype: list\n",
    "\n",
    "        \"\"\"\n",
    "        logger.info(\"Processing name query for %s ...\", name)\n",
    "        return cls.query.filter(cls.name == name)\n",
    "```\n",
    "\n",
    "**Note:** By calling this method on the `Product` class and providing a valid name, you will get a collection of `Product` objects matching that name."
   ]
  },
  {
   "cell_type": "markdown",
   "id": "08af76d4-3f0c-4717-aeeb-33d79d5d8adb",
   "metadata": {},
   "source": [
    "## `find_by_price()` method"
   ]
  },
  {
   "cell_type": "markdown",
   "id": "1642c99f-579c-45d0-b905-fdf034bec412",
   "metadata": {},
   "source": [
    "The code snippet below includes a class method called `find_by_price()` within the `Product` class, which retrieves all the `Product` objects from the database with a matching price.\n",
    "```\n",
    "@classmethod\n",
    "    def find_by_price(cls, price: Decimal) -> list:\n",
    "        \"\"\"Returns all Products with the given price\n",
    "\n",
    "        :param price: the price to search for\n",
    "        :type name: float\n",
    "\n",
    "        :return: a collection of Products with that price\n",
    "        :rtype: list\n",
    "        \"\"\"\n",
    "        logger.info(\"Processing price query for %s ...\", price)\n",
    "        price_value = price\n",
    "        if isinstance(price, str):\n",
    "            price_value = Decimal(price.strip(' \"'))\n",
    "        return cls.query.filter(cls.price == price_value)\n",
    "```\n",
    "**Note:** By calling this method on the `Product` class and providing a valid price, you will get a collection of `Product` objects matching that price."
   ]
  },
  {
   "cell_type": "markdown",
   "id": "03bb82f8-0c9f-49da-8981-7c9d6b7bbaef",
   "metadata": {},
   "source": [
    "## `find_by_availability()` method"
   ]
  },
  {
   "cell_type": "markdown",
   "id": "7f68ea2f-cf52-4d7c-8aa8-22409393d515",
   "metadata": {},
   "source": [
    "The code snippet below includes a class method called `find_by_availability()` within the `Product` class, which retrieves all the Product objects from the database based on availability.\n",
    "```\n",
    "@classmethod\n",
    "    def find_by_availability(cls, available: bool = True) -> list:\n",
    "        \"\"\"Returns all Products by their availability\n",
    "\n",
    "        :param available: True for available products\n",
    "        :type available: str\n",
    "\n",
    "        :return: a collection of available Products\n",
    "        :rtype: list\n",
    "\n",
    "        \"\"\"\n",
    "        logger.info(\"Processing available query for %s ...\", available)\n",
    "        return cls.query.filter(cls.available == available)\n",
    "```\n",
    "**Note:** By calling this method on the `Product` class and providing a valid availability value (defaulting to `True` if not provided), you will get a collection of `Product` objects that match the specified availability."
   ]
  },
  {
   "cell_type": "markdown",
   "id": "e537ba83-aea5-465f-9044-02f58f270d63",
   "metadata": {},
   "source": [
    "## `find_by_category()` method"
   ]
  },
  {
   "cell_type": "markdown",
   "id": "90b67e2c-177b-4179-b171-f4a7435fdd18",
   "metadata": {},
   "source": [
    "The below code snippet includes a class method called `find_by_category()` within the `Product` class, which retrieves all the `Product` objects from the database based on their category.\n",
    "```\n",
    "@classmethod\n",
    "    def find_by_category(cls, category: Category = Category.UNKNOWN) -> list:\n",
    "        \"\"\"Returns all Products by their Category\n",
    "\n",
    "        :param category: values are ['MALE', 'FEMALE', 'UNKNOWN']\n",
    "        :type available: enum\n",
    "\n",
    "        :return: a collection of available Products\n",
    "        :rtype: list\n",
    "\n",
    "        \"\"\"\n",
    "        logger.info (\"Processing category query for %s ...\", category.name)\n",
    "        return cls.query.filter(cls.category == category)\n",
    "```\n",
    "\n",
    "Note: By calling this method on the `Product` class and providing a valid category value (defaulting to `Category.UNKNOWN` if not provided), you will get a collection of `Product` objects that match the specified category."
   ]
  },
  {
   "cell_type": "markdown",
   "id": "6cab750e-642c-451c-a280-335b82d632e9",
   "metadata": {},
   "source": [
    "# Check list: Final Project"
   ]
  },
  {
   "cell_type": "markdown",
   "id": "d3f4411b-7bb1-4776-83a7-84f5c2eb1b30",
   "metadata": {},
   "source": [
    "* As mentioned in `Exercise 1`, have you updated the code in the file tests/factories.py for creating fake products and saved the GitHub URL of the same?\n",
    "\n",
    "* As mentioned in `Exercise 2`, have you updated the test cases in the `filetests/test_models.py` for all the functions including **Read / Update / Delete / List All / Search by Name / Search by Category / Search by Availability**?\n",
    "\n",
    "* As mentioned in `Exercise 3`, have you updated the test cases in the file `tests/test_routes.py` for all the functions including **Read / Update / Delete / List All / List by Name / List by Category / List by Availability**?\n",
    "\n",
    "* As mentioned in `Exercise 3`, have you updated the code in the file `service/routes.py` for all the functions including **Read / Update / Delete / List All / List by Name / List by Category / List by Availability**?\n",
    "\n",
    "* As mentioned in `Exercise 4`, have you updated the code in the file `features/steps/load_steps.py` for loading the BDD data?\n",
    "\n",
    "* As mentioned in `Exercise 5`, have you updated the code in the file `features/products.feature` for all the BDD scenarios including **Read / Update / Delete / Search by Name / Search by Category / Search by Availability**?\n",
    "\n",
    "* As mentioned in `Exercise 6`, have you updated the code in the file `features/steps/web_steps.py` for the **Step Definitions**?\n",
    "\n",
    "* Have you executed `nosetests` and confirmed that all the test cases passed with `95%` code coverage?\n",
    "\n",
    "* Have you executed the `honcho start` and confirmed that the application is launching as expected?\n",
    "\n",
    "* Have you executed `behave` and confirmed that all 7 BDD Scenarios passed?"
   ]
  },
  {
   "cell_type": "markdown",
   "id": "eeff2b77-e881-4a15-a735-012da963c7ad",
   "metadata": {},
   "source": [
    "# Grading Criteria Overview"
   ]
  },
  {
   "cell_type": "markdown",
   "id": "f07a49c5-be19-4a0f-b906-7f7f0b0fad78",
   "metadata": {},
   "source": [
    "There are a total of `34` points for `7` tasks in this final project.\n",
    "\n",
    "* **Task 1**: GitHub URL of the `tests/factories.py` showing the updated code for fake products **(1 pt)**\n",
    "\n",
    "* **Task 2**: GitHub URL of `tests/test_models.py` showing the code snippets for Read / Update / Delete / List All / Find by Name / Find by Category / Find by Availability functions **(7 pts)**\n",
    "\n",
    "* **Task 3**: GitHub URL of `tests/test_routes.py` showing the code snippets for Read / Update / Delete / List All / List by Name / List by Category / List by Availability functions **(7 pts)**\n",
    "\n",
    "* **Task 4**: GitHub URL of `service/routes.py` showing the code snippets for Read / Update / Delete / List All / List by Name / List by Category / List by Availability functions **(7 pts)**\n",
    "\n",
    "* **Task 5**: GitHub URL of `features/steps/load_steps.py` showing the code snippet for loading the BDD data **(1 pt)**\n",
    "\n",
    "* **Task 6**: GitHub URL of `features/products.feature` showing the code snippets for the BDD Scenarios including Read / Update / Delete / List all / Search by Name / Search by Category / Search by Availability **( 7 pts)**\n",
    "\n",
    "* **Task 7**: GitHub URL of `features/steps/web_steps.py` showing the code snippets of the step definitions **(4 pts)**"
   ]
  },
  {
   "cell_type": "code",
   "execution_count": null,
   "id": "be21e089-5534-4fb8-bcc3-884b9fecfb4e",
   "metadata": {},
   "outputs": [],
   "source": []
  }
 ],
 "metadata": {
  "kernelspec": {
   "display_name": "Python 3 (ipykernel)",
   "language": "python",
   "name": "python3"
  },
  "language_info": {
   "codemirror_mode": {
    "name": "ipython",
    "version": 3
   },
   "file_extension": ".py",
   "mimetype": "text/x-python",
   "name": "python",
   "nbconvert_exporter": "python",
   "pygments_lexer": "ipython3",
   "version": "3.12.5"
  }
 },
 "nbformat": 4,
 "nbformat_minor": 5
}
