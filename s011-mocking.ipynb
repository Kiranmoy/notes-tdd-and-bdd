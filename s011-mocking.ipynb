{
 "cells": [
  {
   "cell_type": "markdown",
   "id": "4a0476d5-dc7e-45d2-8fc3-5b25cda5547c",
   "metadata": {},
   "source": [
    "# Mocking"
   ]
  },
  {
   "attachments": {},
   "cell_type": "markdown",
   "id": "574de6d9-3c5c-4fb2-b432-925db7c06798",
   "metadata": {},
   "source": [
    "Understanding mocking is critical for making sure that you are only testing your code, and not someone else’s system.\n",
    "\n",
    "**Mocking is a process for creating objects that mimic the behavior of real objects.**\n",
    "\n",
    "You might ask yourself, **\"Why would I want to mock something?\"**\n",
    "\n",
    "Well, mocking can be very useful when your code calls another system that it depends on. \n",
    "\n",
    "For example, \n",
    "* let's say your code processes movie reviews from the Internet Movie Database, better known as the IMDB. \n",
    "* When you're running a test case, **do you really want to call the IMDB 1000 times a second?** \n",
    "* Would the IMDB servers even let you call it 1000 times a second? \n",
    "* What if the IMDB service is down? \n",
    "* Now through no fault of your own, your test cases don't run. \n",
    "* This is why you want to mock systems like this during tests."
   ]
  },
  {
   "cell_type": "markdown",
   "id": "01089813-2e1d-4b16-a20a-d277d0822c33",
   "metadata": {},
   "source": [
    "# When should you mock?"
   ]
  },
  {
   "attachments": {},
   "cell_type": "markdown",
   "id": "94cacf2d-ee5b-41cf-b063-1d9e9180213d",
   "metadata": {},
   "source": [
    "**You should mock any external service that is not under test.** \n",
    "* To do so, you create mock objects that behave like that system. \n",
    "* You mock it because the system isn’t what you're testing; \n",
    "* You’re testing whether your code can call the system, get back data, and then do something with that data. \n",
    "\n",
    "**Mocking the external system isolates the test to just your code.** \n",
    "\n",
    "Sometimes you need to **change the behavior of a dependent system under test**. \n",
    "* Say you mock the IMDB database.\n",
    "* Then you can make it send back whatever type of reviews you need: good reviews, bad reviews, even no reviews. \n",
    "* By mocking an external system, you have complete control of the data that comes back from that mocked system. \n",
    "\n",
    "**Mocking allows you to create any condition that you need to test.**\n",
    "* You can change the behavior of a mocked system. \n",
    "* You can have it fail. \n",
    "* You can have it bring back a bad return code and check that your error handlers are working properly. \n",
    "\n",
    "But **mocking isn’t limited to external systems**. \n",
    "* Mocking is also useful if you don’t have a remote connection to another component that’s important for your testing. \n",
    "* This component could just be a part of your application that isn't available during testing.\n",
    "\n",
    "In short, ***anytime you want to isolate your tests from a remote component or external system, you can use a mock to take its place.***\n"
   ]
  },
  {
   "cell_type": "markdown",
   "id": "314d2942-420b-4ac9-b976-2391e5d90405",
   "metadata": {},
   "source": [
    "# Methods for mocking"
   ]
  },
  {
   "cell_type": "markdown",
   "id": "228e1217-8dfe-4e9f-9436-eb7c9428347e",
   "metadata": {},
   "source": [
    "There are two types of new methods of mocking. \n",
    "\n",
    "One method is through a **patch**: \n",
    "* you can patch a function call, allowing you to change the call’s behavior. \n",
    "* This is powerful tool to simulate error conditions and control what is returned from a call to any function. \n",
    "* When I say any function, I'm including third-party libraries that you have no control over. \n",
    "* With **patching**, you can control the behavior of a call to these libraries so that you can simulate different conditions.\n",
    "\n",
    "The other method is through a **test framework’s mock object**, which `mocks an entire object` and `changing its behavior`. \n",
    "* The best use for these mocks is when you need an entire object that behaves like another object, not just a function call. \n",
    "* You can also use these fake calls that returns an object instead, the call returns a mock object that behaves like the object you expect to return from the function call. \n",
    "* In Python, two of these mock objects are built into **`PyUnit`: `Mock` and `MagicMock`**. \n",
    "\n",
    "By using a combination of **patches** and your **framework’s provided mock objects**, you can gain complete control over external dependencies under test conditions so that you can achieve repeatable results.\n"
   ]
  },
  {
   "cell_type": "code",
   "execution_count": null,
   "id": "d72b7678-46cf-4065-8387-571cef3fc4b9",
   "metadata": {},
   "outputs": [],
   "source": []
  }
 ],
 "metadata": {
  "kernelspec": {
   "display_name": "Python 3 (ipykernel)",
   "language": "python",
   "name": "python3"
  },
  "language_info": {
   "codemirror_mode": {
    "name": "ipython",
    "version": 3
   },
   "file_extension": ".py",
   "mimetype": "text/x-python",
   "name": "python",
   "nbconvert_exporter": "python",
   "pygments_lexer": "ipython3",
   "version": "3.12.5"
  }
 },
 "nbformat": 4,
 "nbformat_minor": 5
}
