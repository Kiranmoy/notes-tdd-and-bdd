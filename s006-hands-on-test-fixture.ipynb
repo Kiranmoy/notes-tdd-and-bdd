{
 "cells": [
  {
   "cell_type": "markdown",
   "id": "f3ef15fd-7a26-41c6-9180-a0074f3d79c8",
   "metadata": {},
   "source": [
    "Welcome to **Creating an Initial State Using Test Fixtures**. \n",
    "\n",
    "Test fixtures are used to establish an initial known state before and after running tests. \n",
    "\n",
    "With test fixtures, you can describe what the test environment looks like **before a test**, or **suite of tests is run**, and then again **after the test runs**."
   ]
  },
  {
   "cell_type": "markdown",
   "id": "056f44e7-0bfc-4a64-a346-e858ef9404cd",
   "metadata": {},
   "source": [
    "# Learning Objectives"
   ]
  },
  {
   "cell_type": "markdown",
   "id": "236c2552-9a08-47c0-9cc3-4444bd9f2476",
   "metadata": {},
   "source": [
    "After completing this lab, you will be able to:\n",
    "* Create test fixtures for setting up and tearing down initial state\n",
    "* Load test data from external files for testing your code\n",
    "* Use loaded test data in your test cases and assertions"
   ]
  },
  {
   "cell_type": "markdown",
   "id": "aec1d0ee-4164-43b4-b335-0ee5901ab9b0",
   "metadata": {},
   "source": [
    "# Set Up the Lab Environment"
   ]
  },
  {
   "cell_type": "markdown",
   "id": "c6173065-c9c8-46b2-9f28-4b31bcdc432f",
   "metadata": {},
   "source": [
    "## Clone the Code Repo"
   ]
  },
  {
   "cell_type": "markdown",
   "id": "d1c7b587-97bd-4e6c-95c8-a09fff109f0d",
   "metadata": {},
   "source": [
    "Now let’s get the code that we need to test. \n",
    "\n",
    "To do this, you will use the `git clone` command to clone the git repository:\n",
    "\n",
    "`git clone https://github.com/ibm-developer-skills-network/duwjx-tdd_bdd_PracticeCode.git`"
   ]
  },
  {
   "cell_type": "markdown",
   "id": "6eeb0100-33b4-48b5-8205-cb1e5195e00d",
   "metadata": {},
   "source": [
    "## Change into the Lab Folder"
   ]
  },
  {
   "cell_type": "markdown",
   "id": "1181d865-aee8-48d8-b42c-18e3cca33092",
   "metadata": {},
   "source": [
    "Once you have cloned the repository, change to the lab directory.\n",
    "\n",
    "`cd duwjx-tdd_bdd_PracticeCode/labs/03_test_fixtures`"
   ]
  },
  {
   "cell_type": "markdown",
   "id": "686b19a2-fb84-4c0e-b036-c92cbd7baa3f",
   "metadata": {},
   "source": [
    "## Install Python Dependencies"
   ]
  },
  {
   "cell_type": "markdown",
   "id": "74823994-dc1d-4d31-866d-d8c6770ce175",
   "metadata": {},
   "source": [
    "The final preparation step is to use `pip` to install the Python packages needed for the lab:\n",
    "\n",
    "`python3.8 -m pip install -r requirements.txt`"
   ]
  },
  {
   "cell_type": "markdown",
   "id": "d1bf76eb-a1c9-48ef-8867-e844a7237e9b",
   "metadata": {},
   "source": [
    "# Review of Test Fixtures"
   ]
  },
  {
   "cell_type": "markdown",
   "id": "daa2bb0d-d133-4dc2-a1ab-b13cbd354043",
   "metadata": {},
   "source": [
    "In this lab, you are going to use the various test fixtures that are available in the PyUnit package. \n",
    "\n",
    "You should review the code below that shows you what test fixtures are available and when they will be invoked.\n",
    "\n",
    "During the lab, you will select the proper place to add code. For example, you may need to add code that will run once before all of the tests in a class. \n",
    "\n",
    "You should know that the **`setUpClass()`** method will run once before all of the tests in the test case."
   ]
  },
  {
   "cell_type": "markdown",
   "id": "209bd691-f264-468d-9bf3-44a58aac1cfd",
   "metadata": {},
   "source": [
    "```\n",
    "def setUpModule():             # runs once before any tests\n",
    "def tearDownModule():          # runs once after all tests\n",
    "\n",
    "class MyTestCases(TestCase):   # the start of a test case\n",
    "\n",
    "    @classmethod\n",
    "    def setUpClass(cls):       # runs once before test case\n",
    "\n",
    "    @classmethod\n",
    "    def tearDownClass(cls):    # runs once after test case\n",
    "\n",
    "    def setUp(self):           # runs before each test\n",
    "\n",
    "    def tearDown(self):        # runs after each test\n",
    "```"
   ]
  },
  {
   "cell_type": "markdown",
   "id": "6a23b25e-ff8e-43cf-88cc-9acbbfb65444",
   "metadata": {},
   "source": [
    "In this lab, you will see the **different ways in which test fixtures** can be used to set up and tear down the initial state before and after testing.\n",
    "\n",
    "In the IDE, navigate to the **`duwjx-tdd_bdd_PracticeCode/labs/03_test_fixtures`** folder. \n",
    "\n",
    "This is where all of the source code that you will be using for this lab is located.\n",
    "\n",
    "You will do all of your editing work in the file **`tests/test_account.py`**. \n",
    "\n",
    "Open that up in the editor to get started."
   ]
  },
  {
   "cell_type": "markdown",
   "id": "d26d6549-65f1-4a3a-a211-4b6161ce094e",
   "metadata": {},
   "source": [
    "# Step 1: Initialize the Database"
   ]
  },
  {
   "cell_type": "markdown",
   "id": "6f4c86db-a90d-4372-a699-f8dd694d0143",
   "metadata": {},
   "source": [
    "In this step, you are going to set up a test fixture to connect and disconnect from the database. \n",
    "\n",
    "You only need to do this once before and after all of the tests."
   ]
  },
  {
   "cell_type": "markdown",
   "id": "18ad2232-3a1c-4112-bdc8-37c94057b195",
   "metadata": {},
   "source": [
    "## Your Task"
   ]
  },
  {
   "attachments": {
    "1eea0ad9-a34b-48c3-be52-1c265494014d.png": {
     "image/png": "[encoded data removed]"
    }
   },
   "cell_type": "markdown",
   "id": "9d9809ab-96de-4c0c-b4e5-431c7157558b",
   "metadata": {},
   "source": [
    "Think about which of the text fixtures are best used for connecting to a database before all tests, and disconnecting from the database after all tests.\n",
    "\n",
    "The following **SQLAlchemy** commands will help you do this:\n",
    "\n",
    "![image.png](attachment:1eea0ad9-a34b-48c3-be52-1c265494014d.png)\n",
    "\n",
    "Use the class level fixtures to invoke **`db.create_all()`** before all tests and **`db.session.close()`** after all tests."
   ]
  },
  {
   "cell_type": "markdown",
   "id": "b310922c-5b02-4a04-8e3d-c6c33b0a6626",
   "metadata": {},
   "source": [
    "## Solution (`test_account.py`)"
   ]
  },
  {
   "cell_type": "code",
   "execution_count": 5,
   "id": "645ea297-0c09-4b44-83d2-7c9fe962a01f",
   "metadata": {},
   "outputs": [],
   "source": [
    "@classmethod\n",
    "def setUpClass(cls):\n",
    "    \"\"\" Connect and load data needed by tests \"\"\"\n",
    "    db.create_all()  # make our SQLAlchemy tables\n",
    "\n",
    "\n",
    "@classmethod\n",
    "def tearDownClass(cls):\n",
    "    \"\"\"Disconnect from database\"\"\"\n",
    "    db.session.close() # close the database session"
   ]
  },
  {
   "cell_type": "markdown",
   "id": "80d3a673-a380-40fe-accd-e6a5affac7a1",
   "metadata": {},
   "source": [
    "## Run the Tests"
   ]
  },
  {
   "cell_type": "markdown",
   "id": "b6b69206-2e9e-42ee-b943-a286ad997194",
   "metadata": {},
   "source": [
    "Run `nosetests` to make sure that your test case executes without errors."
   ]
  },
  {
   "cell_type": "markdown",
   "id": "a31649f5-1f9b-41ab-92e0-46a3d10e5734",
   "metadata": {},
   "source": [
    "# Step 2: Load Test Data"
   ]
  },
  {
   "cell_type": "markdown",
   "id": "c007d7f2-8b89-41cc-be18-92afcafe8aa0",
   "metadata": {},
   "source": [
    "In this step, you are going to load some test data so that it can be used during testing. \n",
    "\n",
    "This should only need to be done once before all tests so you will do this in a class method."
   ]
  },
  {
   "cell_type": "markdown",
   "id": "c8ce1a39-86f9-488c-85ba-9d014766a847",
   "metadata": {},
   "source": [
    "## Your Task"
   ]
  },
  {
   "cell_type": "markdown",
   "id": "a4d17919-2914-4831-9966-974f5861cf6f",
   "metadata": {},
   "source": [
    "There is test data in a file under the `tests/fixtures` folder called `account_data.json`.\n",
    "\n",
    "Load the data from `tests/fixtures/account_data.json` into a global variable called `ACCOUNT_DATA` that has already been declared.\n",
    "\n",
    "The Python code to load the data is:\n",
    "\n",
    "```\n",
    "with open('tests/fixtures/account_data.json') as json_data:\n",
    "    ACCOUNT_DATA = json.load(json_data)\n",
    "```"
   ]
  },
  {
   "cell_type": "markdown",
   "id": "82a1ac9d-086e-4aef-8c12-633a18094152",
   "metadata": {},
   "source": [
    "## Solution (`test_account.py`)"
   ]
  },
  {
   "cell_type": "code",
   "execution_count": 6,
   "id": "6fb5eda7-44e8-4eb6-b4a2-87c863bcf552",
   "metadata": {},
   "outputs": [],
   "source": [
    "@classmethod\n",
    "def setUpClass(cls):\n",
    "    \"\"\" Connect and Load data needed by tests \"\"\"\n",
    "    db.create_all()  # make our SQLAlchemy tables\n",
    "    global ACCOUNT_DATA\n",
    "    with open('tests/fixtures/account_data.json') as json_data:\n",
    "        ACCOUNT_DATA = json.load(json_data)"
   ]
  },
  {
   "cell_type": "markdown",
   "id": "d6d69cef-5ffd-4582-9f72-c51a634bae09",
   "metadata": {},
   "source": [
    "## Run the Tests"
   ]
  },
  {
   "cell_type": "markdown",
   "id": "2e4ee137-ae0e-415f-8d03-aa9d20c3fdc1",
   "metadata": {},
   "source": [
    "Run `nosetests` to make sure that your test case executes without errors."
   ]
  },
  {
   "cell_type": "markdown",
   "id": "a42f708a-ea86-4280-bc4f-e32c8396c8b1",
   "metadata": {},
   "source": [
    "# Step 3: Write a Test Case to Create an Account"
   ]
  },
  {
   "cell_type": "markdown",
   "id": "44614c4a-dde0-445c-9067-81da6640cdeb",
   "metadata": {},
   "source": [
    "Now you are ready to write your first test. You will create a single account using the `ACCOUNT_DATA` dictionary that has test data for five accounts."
   ]
  },
  {
   "cell_type": "markdown",
   "id": "89c3a6ed-b336-4160-9ffd-c55c83f980c0",
   "metadata": {},
   "source": [
    "## Your Task"
   ]
  },
  {
   "cell_type": "markdown",
   "id": "ce90a854-3fe8-4b7c-ad00-bd23e62626c2",
   "metadata": {},
   "source": [
    "The Account class has a `create()` method that can be used to add an account to the database. It also has an `all()` method that performs a query that returns all accounts.\n",
    "\n",
    "Your test cases should create an account and then call the `Account.all()` method and assert that one account was returned."
   ]
  },
  {
   "cell_type": "markdown",
   "id": "6fbcf79d-d0c7-42c4-a97b-c573b212766c",
   "metadata": {},
   "source": [
    "## Solution (`test_account.py`)"
   ]
  },
  {
   "cell_type": "code",
   "execution_count": null,
   "id": "d2f524d1-b70e-4200-9d22-5e1cea7ff912",
   "metadata": {},
   "outputs": [],
   "source": [
    "def test_create_an_account(self):\n",
    "    \"\"\" Test create a single Account \"\"\"\n",
    "    data = ACCOUNT_DATA[0] # get the first account\n",
    "    account = Account(**data)\n",
    "    account.create()\n",
    "    self.assertEqual(len(Account.all()), 1)"
   ]
  },
  {
   "cell_type": "markdown",
   "id": "eb0a3356-5e9f-4a7a-8ea2-a03852eb96be",
   "metadata": {},
   "source": [
    "## Run the Tests"
   ]
  },
  {
   "attachments": {
    "bd695712-3afe-4ce6-9d9d-bec6c6830763.png": {
     "image/png": "[encoded data removed]"
    }
   },
   "cell_type": "markdown",
   "id": "53b8f3c9-9798-4e08-90ed-643f3a4d8131",
   "metadata": {},
   "source": [
    "Run `nosetests` to make sure that your test case passes.\n",
    "\n",
    "You should see:\n",
    "\n",
    "![image.png](attachment:bd695712-3afe-4ce6-9d9d-bec6c6830763.png)"
   ]
  },
  {
   "cell_type": "markdown",
   "id": "fafc78e4-564a-4427-9a00-ed7c076a3e15",
   "metadata": {},
   "source": [
    "# Step 4: Write a Test Case to Create All Accounts"
   ]
  },
  {
   "cell_type": "markdown",
   "id": "71546ff5-732a-4b99-a6c2-03b3a869a411",
   "metadata": {},
   "source": [
    "Now that you know that one account can be successfully created, let’s write a test case that creates all five of the accounts in the `ACCOUNT_DATA` dictionary."
   ]
  },
  {
   "cell_type": "markdown",
   "id": "491e509c-da90-4b46-a80f-90313d9a2713",
   "metadata": {},
   "source": [
    "## Your Task"
   ]
  },
  {
   "cell_type": "markdown",
   "id": "5d32e73c-47d3-4fa6-a550-c0c693d26c55",
   "metadata": {},
   "source": [
    "Use a `for` loop to load all of the data from the `ACCOUNT_DATA` dictionary and then use the `Account.all()` method to retrieve them and assert that the number of accounts returned is equal to the number of accounts in the test data dictionary."
   ]
  },
  {
   "cell_type": "markdown",
   "id": "d823ce82-a9c3-4806-a551-fa839fbabedd",
   "metadata": {},
   "source": [
    "## Solution (`test_account.py`)"
   ]
  },
  {
   "cell_type": "code",
   "execution_count": 7,
   "id": "9a5d7c9b-ff94-4d2d-b9f6-79b37f2a5639",
   "metadata": {},
   "outputs": [],
   "source": [
    "def test_create_all_accounts(self):\n",
    "    \"\"\" Test creating multiple Accounts \"\"\"\n",
    "    for data in ACCOUNT_DATA:\n",
    "        account = Account(**data)\n",
    "        account.create()\n",
    "    self.assertEqual(len(Account.all()), len(ACCOUNT_DATA))"
   ]
  },
  {
   "cell_type": "markdown",
   "id": "c80f5c22-1a75-4d78-804e-a02000e22aa6",
   "metadata": {},
   "source": [
    "## Run the Tests"
   ]
  },
  {
   "attachments": {
    "4e6d0e53-6e87-4277-b66f-f126c15eb630.png": {
     "image/png": "[encoded data removed]"
    }
   },
   "cell_type": "markdown",
   "id": "26b3631d-c271-42c9-b6fb-db8f257d6c41",
   "metadata": {},
   "source": [
    "Run `nosetests` to make sure that your test case passes.\n",
    "\n",
    "**ERROR:** This time the tests did not pass! You should have received two errors about **AssertionError: 6 != 5** and **AssertionError: 7 != 1**:\n",
    "\n",
    "![image.png](attachment:4e6d0e53-6e87-4277-b66f-f126c15eb630.png)\n",
    "\n",
    "**Why were seven accounts returned when we only expect one?**\n",
    "\n",
    "Let’s see how we can fix this in the next step."
   ]
  },
  {
   "cell_type": "markdown",
   "id": "2a9d6d94-d7fb-4912-93bb-1694388b4c6c",
   "metadata": {},
   "source": [
    "# Step 5: Clear out the tables before each test"
   ]
  },
  {
   "cell_type": "markdown",
   "id": "4de15514-e8aa-4107-a1dd-c1cc3b0ed8fb",
   "metadata": {},
   "source": [
    "The reason that your test case failed is because data from a previous test has affected the outcome of the next test. To avoid this, you need to add more test fixtures that will run before and after each test."
   ]
  },
  {
   "cell_type": "markdown",
   "id": "d54f812e-07f0-4400-a511-848b92efd025",
   "metadata": {},
   "source": [
    "## Your Task"
   ]
  },
  {
   "cell_type": "markdown",
   "id": "3c44f001-6577-43f6-96ad-56e9c8e000d6",
   "metadata": {},
   "source": [
    "One way of removing the data from a table is with the **`db.session.query(<Table>).delete()`** command where **`<Table>`** is the class name of the tables. This will delete all of the records in the table. You must also use **`db.session.commit()`** to commit this change. Add that to the fixture that runs before each test.\n",
    "\n",
    "The correct syntax for your **`Account`** class is: `db.session.query(Account).delete()`\n",
    "\n",
    "It’s also a good idea to use the `db.session.remove()` command after each test. \n",
    "\n",
    "Add that to the fixture that runs after each test."
   ]
  },
  {
   "cell_type": "markdown",
   "id": "74170a52-4cb7-4b6e-9c0e-b1bd1152de60",
   "metadata": {},
   "source": [
    "## Solution (`test_account.py`)"
   ]
  },
  {
   "cell_type": "code",
   "execution_count": 8,
   "id": "ed35059d-3dca-47bc-a407-aaff5927fb7b",
   "metadata": {},
   "outputs": [],
   "source": [
    "def setUp(self):\n",
    "    \"\"\"Truncate the tables\"\"\"\n",
    "    db.session.query(Account).delete()\n",
    "    db.session.commit()\n",
    "\n",
    "\n",
    "def tearDown(self):\n",
    "    \"\"\"Remove the session\"\"\"\n",
    "    db.session.remove()"
   ]
  },
  {
   "cell_type": "markdown",
   "id": "f85ccf09-b2fb-449b-b07e-0b79394610bc",
   "metadata": {},
   "source": [
    "## Run the Tests"
   ]
  },
  {
   "attachments": {
    "51676a31-5858-4eb3-894e-05b2f00ec279.png": {
     "image/png": "[encoded data removed]"
    }
   },
   "cell_type": "markdown",
   "id": "758d98c4-f1bc-4609-a966-df6f1c4f71fa",
   "metadata": {},
   "source": [
    "Run `nosetests` to make sure that your test case passes.\n",
    "\n",
    "You should see the following report:\n",
    "\n",
    "![image.png](attachment:51676a31-5858-4eb3-894e-05b2f00ec279.png)\n",
    "\n",
    "**Congratulations!** All of your test cases have passed this time."
   ]
  },
  {
   "cell_type": "code",
   "execution_count": null,
   "id": "0a395a65-57df-4263-8896-3a67766fdbff",
   "metadata": {},
   "outputs": [],
   "source": []
  }
 ],
 "metadata": {
  "kernelspec": {
   "display_name": "Python 3 (ipykernel)",
   "language": "python",
   "name": "python3"
  },
  "language_info": {
   "codemirror_mode": {
    "name": "ipython",
    "version": 3
   },
   "file_extension": ".py",
   "mimetype": "text/x-python",
   "name": "python",
   "nbconvert_exporter": "python",
   "pygments_lexer": "ipython3",
   "version": "3.12.5"
  }
 },
 "nbformat": 4,
 "nbformat_minor": 5
}
